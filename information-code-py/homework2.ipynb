{
 "cells": [
  {
   "cell_type": "markdown",
   "id": "valid-dress",
   "metadata": {},
   "source": [
    "1.（必做）论坛帖子及回复信息输出。\\\n",
    "要求：\\\n",
    "1.使用列表对象创建帖子及回复数据，每一个帖子相关数据使用字典类型表示，具体如下：\\\n",
    "posts = [{'id':1, 'title':'测试标题1', 'author':'匿名用户1', 'publish':'2018-01-01','content':'这里是帖子的测试内容1……','replay':[{'publish':'2018-01-06', 'content':'这里是回复内容1……'},{'publish':'2018-01-05', 'content':'这里是回复内容2……'}]}, \\\n",
    "{'id':2, 'title':'测试标题2', 'author':'匿名用户3', 'publish':'2018-02-11','content':'这里是帖子的测试内容2……','replay':[{'publish':'2018-02-15', 'content':'这里是回复内容3……'},{'publish':'2018-01-12', 'content':'这里是回复内容4……'}]},]\\\n",
    "帖子的属性：id帖子编号，title帖子标题，author帖子作者，publish帖子发布时间，content帖子内容，replay帖子回复（嵌套列表，其中的每一个回复是一个字典类型）。\\\n",
    "回复的属性：publish回复时间，content回复内容。"
   ]
  },
  {
   "cell_type": "code",
   "execution_count": 2,
   "id": "gothic-friend",
   "metadata": {},
   "outputs": [
    {
     "name": "stdout",
     "output_type": "stream",
     "text": [
      "论坛帖子\n",
      "========================\n",
      "id : 1\n",
      "title : 测试标题1\n",
      "author : 匿名用户1\n",
      "publish : 2018-01-01\n",
      "----------------------\n",
      "这里是帖子的测试内容1…… \n",
      "\n",
      "回复<2018-01-06>:这里是回复内容1……\n",
      "回复<2018-01-05>:这里是回复内容2……\n",
      "\n",
      "\n",
      "id : 2\n",
      "title : 测试标题2\n",
      "author : 匿名用户3\n",
      "publish : 2018-02-11\n",
      "----------------------\n",
      "这里是帖子的测试内容2…… \n",
      "\n",
      "回复<2018-02-15>:这里是回复内容3……\n",
      "回复<2018-01-12>:这里是回复内容4……\n",
      "\n",
      "\n"
     ]
    }
   ],
   "source": [
    "posts = [\n",
    "    {'id':1, \n",
    "          'title':'测试标题1',\n",
    "          'author':'匿名用户1',\n",
    "          'publish':'2018-01-01',\n",
    "          'content':'这里是帖子的测试内容1……',\n",
    "          'replay':[\n",
    "              {'publish':'2018-01-06',\n",
    "               'content':'这里是回复内容1……'\n",
    "              },\n",
    "              {'publish':'2018-01-05',\n",
    "               'content':'这里是回复内容2……'\n",
    "              }\n",
    "          ]\n",
    "         },\n",
    "    {'id':2, \n",
    "     'title':'测试标题2',\n",
    "     'author':'匿名用户3',\n",
    "     'publish':'2018-02-11',\n",
    "     'content':'这里是帖子的测试内容2……',\n",
    "     'replay':[{'publish':'2018-02-15',\n",
    "                'content':'这里是回复内容3……'\n",
    "               },\n",
    "               {'publish':'2018-01-12',\n",
    "                'content':'这里是回复内容4……'\n",
    "               }\n",
    "              ]\n",
    "    },\n",
    "]\n",
    "print('论坛帖子')\n",
    "print('========================')\n",
    "for post in posts:\n",
    "    for one,abc in post.items():\n",
    "        if one=='replay':\n",
    "            a=0\n",
    "            for q in abc:\n",
    "                for m,n in q.items():#每个q是一条回复\n",
    "                    print(n, end='')\n",
    "                    a+=1\n",
    "                    if m== 'content' and a!=4 and a!=8 :\n",
    "                        print('')\n",
    "                        print('回复<',end='')\n",
    "                    if m=='publish':\n",
    "                        print('>:',end='')\n",
    "            print('\\n\\n')\n",
    "        elif one=='content':\n",
    "            print('----------------------')\n",
    "            print(abc,'\\n')\n",
    "            print('回复<',end='')\n",
    "        else:\n",
    "            print(one,':',abc)\n"
   ]
  },
  {
   "cell_type": "markdown",
   "id": "imported-style",
   "metadata": {},
   "source": []
  }
 ],
 "metadata": {
  "kernelspec": {
   "display_name": "Python 3",
   "language": "python",
   "name": "python3"
  },
  "language_info": {
   "codemirror_mode": {
    "name": "ipython",
    "version": 3
   },
   "file_extension": ".py",
   "mimetype": "text/x-python",
   "name": "python",
   "nbconvert_exporter": "python",
   "pygments_lexer": "ipython3",
   "version": "3.6.4"
  }
 },
 "nbformat": 4,
 "nbformat_minor": 5
}
