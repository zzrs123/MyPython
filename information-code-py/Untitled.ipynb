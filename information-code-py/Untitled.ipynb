{
 "cells": [
  {
   "cell_type": "markdown",
   "id": "negative-trinity",
   "metadata": {},
   "source": [
    "# 复习python到爬虫实践1"
   ]
  },
  {
   "cell_type": "code",
   "execution_count": null,
   "id": "distinct-raising",
   "metadata": {},
   "outputs": [],
   "source": [
    "print(\"aaa\",\"bbbb\",\"ccc\")\n",
    "print(\"www\",\"baidu\",\"com\",sep=\".\")\n",
    "print"
   ]
  },
  {
   "cell_type": "markdown",
   "id": "lucky-setting",
   "metadata": {},
   "source": [
    "## 错误和异常\n",
    "\n",
    "看如下示例："
   ]
  },
  {
   "cell_type": "code",
   "execution_count": null,
   "id": "latter-words",
   "metadata": {},
   "outputs": [],
   "source": []
  },
  {
   "cell_type": "code",
   "execution_count": 14,
   "id": "excellent-gibson",
   "metadata": {},
   "outputs": [],
   "source": []
  },
  {
   "cell_type": "code",
   "execution_count": null,
   "id": "excessive-giant",
   "metadata": {
    "scrolled": true
   },
   "outputs": [],
   "source": []
  },
  {
   "cell_type": "code",
   "execution_count": null,
   "id": "spread-glucose",
   "metadata": {},
   "outputs": [],
   "source": []
  }
 ],
 "metadata": {
  "kernelspec": {
   "display_name": "Python 3",
   "language": "python",
   "name": "python3"
  },
  "language_info": {
   "codemirror_mode": {
    "name": "ipython",
    "version": 3
   },
   "file_extension": ".py",
   "mimetype": "text/x-python",
   "name": "python",
   "nbconvert_exporter": "python",
   "pygments_lexer": "ipython3",
   "version": "3.6.4"
  }
 },
 "nbformat": 4,
 "nbformat_minor": 5
}
