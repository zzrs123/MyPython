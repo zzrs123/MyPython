{
 "cells": [
  {
   "cell_type": "markdown",
   "id": "resistant-majority",
   "metadata": {},
   "source": [
    "# 爬虫实践1"
   ]
  },
  {
   "cell_type": "code",
   "execution_count": null,
   "id": "surprising-abraham",
   "metadata": {},
   "outputs": [],
   "source": []
  },
  {
   "cell_type": "code",
   "execution_count": null,
   "id": "spectacular-scholar",
   "metadata": {},
   "outputs": [],
   "source": []
  },
  {
   "cell_type": "code",
   "execution_count": 12,
   "id": "invalid-filling",
   "metadata": {},
   "outputs": [
    {
     "ename": "AttributeError",
     "evalue": "'NoneType' object has no attribute 'group'",
     "output_type": "error",
     "traceback": [
      "\u001b[1;31m---------------------------------------------------------------------------\u001b[0m",
      "\u001b[1;31mAttributeError\u001b[0m                            Traceback (most recent call last)",
      "\u001b[1;32m<ipython-input-12-68c747fd2ed7>\u001b[0m in \u001b[0;36m<module>\u001b[1;34m\u001b[0m\n\u001b[0;32m     21\u001b[0m \u001b[0mtitle_match\u001b[0m\u001b[1;33m=\u001b[0m\u001b[0mre\u001b[0m\u001b[1;33m.\u001b[0m\u001b[0mmatch\u001b[0m\u001b[1;33m(\u001b[0m\u001b[0mtitle_pattern\u001b[0m\u001b[1;33m,\u001b[0m\u001b[0mhtml_page\u001b[0m\u001b[1;33m)\u001b[0m\u001b[1;33m\u001b[0m\u001b[0m\n\u001b[0;32m     22\u001b[0m \u001b[1;33m\u001b[0m\u001b[0m\n\u001b[1;32m---> 23\u001b[1;33m \u001b[0mtitle\u001b[0m\u001b[1;33m=\u001b[0m\u001b[0mtitle_match\u001b[0m\u001b[1;33m.\u001b[0m\u001b[0mgroup\u001b[0m\u001b[1;33m(\u001b[0m\u001b[1;36m2\u001b[0m\u001b[1;33m)\u001b[0m\u001b[1;33m\u001b[0m\u001b[0m\n\u001b[0m\u001b[0;32m     24\u001b[0m \u001b[1;33m\u001b[0m\u001b[0m\n\u001b[0;32m     25\u001b[0m \u001b[1;31m#print(title)\u001b[0m\u001b[1;33m\u001b[0m\u001b[1;33m\u001b[0m\u001b[0m\n",
      "\u001b[1;31mAttributeError\u001b[0m: 'NoneType' object has no attribute 'group'"
     ]
    }
   ],
   "source": []
  },
  {
   "cell_type": "code",
   "execution_count": 14,
   "id": "threaded-imagination",
   "metadata": {},
   "outputs": [],
   "source": []
  },
  {
   "cell_type": "code",
   "execution_count": 24,
   "id": "precious-sharp",
   "metadata": {},
   "outputs": [
    {
     "ename": "IndentationError",
     "evalue": "unindent does not match any outer indentation level (<tokenize>, line 52)",
     "output_type": "error",
     "traceback": [
      "\u001b[1;36m  File \u001b[1;32m\"<tokenize>\"\u001b[1;36m, line \u001b[1;32m52\u001b[0m\n\u001b[1;33m    surl = input(\"输入爬取博客的首页url:\")\u001b[0m\n\u001b[1;37m    ^\u001b[0m\n\u001b[1;31mIndentationError\u001b[0m\u001b[1;31m:\u001b[0m unindent does not match any outer indentation level\n"
     ]
    }
   ],
   "source": [
    "import requests\n",
    "from lxml import etree\n",
    "from urllib.request import urlopen, Request\n",
    "import time\n",
    "  \n",
    "class blog():\n",
    " \n",
    "     def __init__(self,url):\n",
    "         self.base_url = url\n",
    "         self.headers = {\"User-Agent\": \"Mozilla/5.0 (X11; Linux x86_64) AppleWebKit/537.36 (KHTML, like Gecko) Chrome/73.0.3683.86 Safari/537.36\"}#模拟浏览器\n",
    " \n",
    "     def get_html(self,url):\n",
    "         response = requests.get(url, self.headers, timeout = 5)#因为请求方式位get所以，用get请求\n",
    "         if response.status_code == 200:#访问正常状态码为200\n",
    "             response.encoding = response.apparent_encoding\n",
    "             return response.text\n",
    "         return None\n",
    "     def get_url1(self,html):#获取每个分页内的文章标题和url\n",
    "         url_1 = []\n",
    "         name = []\n",
    "         x_html = etree.HTML(html)\n",
    "         #print(x_html)\n",
    "         url_1 = x_html.xpath('//a[@class=\"postTitle2\"]/@href')\n",
    "         name = x_html.xpath('//a[@class=\"postTitle2\"]/text()')\n",
    "         names = []\n",
    " \n",
    "         for i in name:\n",
    "             names.append(i.strip())#去除空格\n",
    "         if names:\n",
    "             return names, url_1\n",
    "         else:\n",
    "             return None\n",
    "     def get_url2(self,s):\n",
    " \n",
    "         url = self.base_url + \"default.html?page=\" + s\n",
    "         return url\n",
    "     def get_text(self,html):\n",
    "         x_html = etree.HTML(html)\n",
    "         txt = []\n",
    " \n",
    "         txt = x_html.xpath('//div[@id=\"cnblogs_post_body\"]//p//text()')\n",
    "         return txt\n",
    "     def save_text(self,name,txt):#保存成txt文件，txt是文章内容\n",
    "         print(name + \"loading...\")\n",
    "         with open(\"test.txt\" + name + '.txt','w',encoding='utf-8') as f:#文件路径\n",
    "             for i in txt:\n",
    "                 f.write(i)\n",
    "                 f.write('\\n')\n",
    "             f.close()\n",
    "         print(\"finsh\")\n",
    "         return\n",
    " surl = input(\"输入爬取博客的首页url:\")\n",
    " c = blog(surl)\n",
    " for i in range(1,200):#获取其各个分页，通过规律发现\n",
    "     url = c.get_url2(str(i))\n",
    "     ls = c.get_html(url)\n",
    "     #print(ls)\n",
    "     time.sleep(2)\n",
    "     names, urls = c.get_url1(ls)\n",
    "     for name, url in zip(names,urls):\n",
    "         #print(name,\":\", url)\n",
    "         html = c.get_html(url)\n",
    "         txt = c.get_text(html)\n",
    "         c.save_text(name[:5],txt)#以前5个字符命名\n",
    " "
   ]
  },
  {
   "cell_type": "code",
   "execution_count": null,
   "id": "behavioral-hebrew",
   "metadata": {},
   "outputs": [],
   "source": []
  }
 ],
 "metadata": {
  "kernelspec": {
   "display_name": "Python 3",
   "language": "python",
   "name": "python3"
  },
  "language_info": {
   "codemirror_mode": {
    "name": "ipython",
    "version": 3
   },
   "file_extension": ".py",
   "mimetype": "text/x-python",
   "name": "python",
   "nbconvert_exporter": "python",
   "pygments_lexer": "ipython3",
   "version": "3.6.4"
  }
 },
 "nbformat": 4,
 "nbformat_minor": 5
}
