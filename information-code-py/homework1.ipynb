{
 "cells": [
  {
   "cell_type": "markdown",
   "id": "ceramic-democracy",
   "metadata": {},
   "source": [
    "1.（必做）创建一个列表元素用于存放2件商品的基本信息，每件商品使用字典类型，商品属性包括（商品编号、商品名称、商品价格）。之后完成对商品2的删除操作，以及商品1的价格修改。"
   ]
  },
  {
   "cell_type": "code",
   "execution_count": 2,
   "id": "reduced-coalition",
   "metadata": {},
   "outputs": [
    {
     "name": "stdout",
     "output_type": "stream",
     "text": [
      "{'index': '1', 'name': 'Y9000P', 'price': 8799}\n"
     ]
    }
   ],
   "source": [
    "# 两个列表\n",
    "diction1={'index':'1','name':'Y9000P','price':'8999'}\n",
    "diction2={'index':'2','name':'CSAPP','price':'109'}\n",
    "# \n",
    "del diction2\n",
    "diction1['price']=8799\n",
    "print(diction1)"
   ]
  },
  {
   "cell_type": "markdown",
   "id": "voluntary-length",
   "metadata": {},
   "source": [
    "2.（必做）已知字符串 s = “i,am,lilei”,请用两种办法取出之间的“am”字符"
   ]
  },
  {
   "cell_type": "code",
   "execution_count": 3,
   "id": "sought-oklahoma",
   "metadata": {},
   "outputs": [
    {
     "name": "stdout",
     "output_type": "stream",
     "text": [
      "am\n",
      "am\n"
     ]
    }
   ],
   "source": [
    "s = 'i,am,lilei'\n",
    "print(s[2:4])\n",
    "print(s[-8:-6])\n",
    "#正向和逆向两种方式，这是与C语言不同的地方"
   ]
  },
  {
   "cell_type": "markdown",
   "id": "historic-missile",
   "metadata": {},
   "source": [
    "3.实现简单的整数计算功能，例如 输入：5+9 输出14."
   ]
  },
  {
   "cell_type": "code",
   "execution_count": 8,
   "id": "small-franchise",
   "metadata": {
    "scrolled": true
   },
   "outputs": [
    {
     "name": "stdout",
     "output_type": "stream",
     "text": [
      "14\n",
      "19999999999999999998\n"
     ]
    }
   ],
   "source": [
    "a = 5\n",
    "b = 9\n",
    "print(a+b)\n",
    "c = 9999999999999999999\n",
    "d = 9999999999999999999\n",
    "print(c+d)"
   ]
  },
  {
   "cell_type": "markdown",
   "id": "classical-riverside",
   "metadata": {},
   "source": []
  }
 ],
 "metadata": {
  "kernelspec": {
   "display_name": "Python 3",
   "language": "python",
   "name": "python3"
  },
  "language_info": {
   "codemirror_mode": {
    "name": "ipython",
    "version": 3
   },
   "file_extension": ".py",
   "mimetype": "text/x-python",
   "name": "python",
   "nbconvert_exporter": "python",
   "pygments_lexer": "ipython3",
   "version": "3.6.4"
  }
 },
 "nbformat": 4,
 "nbformat_minor": 5
}
